{
 "cells": [
  {
   "cell_type": "markdown",
   "metadata": {
    "deletable": false,
    "editable": false,
    "nbgrader": {
     "cell_type": "markdown",
     "checksum": "f4eea91e74e5bccfd5373418adcf51fe",
     "grade": false,
     "grade_id": "cell-11f79d0940899143",
     "locked": true,
     "schema_version": 3,
     "solution": false,
     "task": false
    }
   },
   "source": [
    "<div class=\"alert alert-danger\">\n",
    "\n",
    "**Read the `Instructions` notebook** before you start working on this problem set! It contains instructions on how to create the submission package and a detailed description of the provided classes (*BayesNet* and *Variable*).\n",
    "    \n",
    "</div>"
   ]
  },
  {
   "cell_type": "code",
   "execution_count": 1,
   "metadata": {
    "deletable": false,
    "editable": false,
    "nbgrader": {
     "cell_type": "code",
     "checksum": "0a2152424ac0aedb136b96c86ab16f4a",
     "grade": false,
     "grade_id": "cell-98c1f957645e7920",
     "locked": true,
     "schema_version": 3,
     "solution": false,
     "task": false
    }
   },
   "outputs": [],
   "source": [
    "import numpy as np\n",
    "import matplotlib.pyplot as plt\n",
    "from bayesian_network import BayesNet"
   ]
  },
  {
   "cell_type": "markdown",
   "metadata": {
    "deletable": false,
    "editable": false,
    "nbgrader": {
     "cell_type": "markdown",
     "checksum": "165d5434d3cbbe7f503d4407e2c791b6",
     "grade": false,
     "grade_id": "cell-8a9b6cf1529e8501",
     "locked": true,
     "schema_version": 3,
     "solution": false,
     "task": false
    }
   },
   "source": [
    "# Rejection Sampling\n",
    "\n",
    "<div class=\"alert alert-warning\">\n",
    "Implement the rejection sampling algorithm and use it to approximate $P(A \\mid D, E)$.\n",
    "</div>\n",
    "\n",
    "In Rejection Sampling, one samples from the full joint distribution and throws away ('rejects') all samples that do not correspond to the evidence.\n",
    "\n",
    "## Implementation\n",
    "\n",
    "Implement\n",
    "- `sample_forward`, and\n",
    "- `rejection_sampling`.\n",
    "\n",
    "`sample_forward` returns a set of samples from the full joint distribution $P(\\mathcal{X})$.\n",
    "\n",
    "`rejection_sampling` uses *sample_forward*, throws away all random events with mismatching evidence $\\mathbf{E}$, and estimates the distribution of the query variable $X$. In other words, it computes an approximation of $P(X \\mid \\mathbf{E}=e)$. For simplicity, we will only consider probabilistic queries with one query variable $X$.\n",
    "\n",
    "We will need a function that samples from a discrete 1-D probability distribution. For this purpose, use the `sample_categorical()` function from the Instructions notebook, which takes a 1-D NumPy array representing a probability distribution and draws a sample from it:"
   ]
  },
  {
   "cell_type": "code",
   "execution_count": 2,
   "metadata": {
    "deletable": false,
    "editable": false,
    "nbgrader": {
     "cell_type": "code",
     "checksum": "0c13833192071b03e7ecba5aedd2b3d4",
     "grade": false,
     "grade_id": "cell-b118e5c1ec95408e",
     "locked": true,
     "schema_version": 3,
     "solution": false,
     "task": false
    }
   },
   "outputs": [
    {
     "name": "stdout",
     "output_type": "stream",
     "text": [
      "Help on function sample_categorical in module utils:\n",
      "\n",
      "sample_categorical(dist: numpy.ndarray) -> numpy.int64\n",
      "    Draws a single sample from a categorical distribution.\n",
      "    :param dist: NumPy array listing the probability of each outcome.\n",
      "    :returns: Index of the sampled element.\n",
      "\n"
     ]
    }
   ],
   "source": [
    "from utils import sample_categorical\n",
    "help(sample_categorical)"
   ]
  },
  {
   "cell_type": "markdown",
   "metadata": {
    "deletable": false,
    "editable": false,
    "nbgrader": {
     "cell_type": "markdown",
     "checksum": "62705f005520a5ab01c19071e7e1ceb4",
     "grade": false,
     "grade_id": "cell-7cfea4f9237cc0aa",
     "locked": true,
     "schema_version": 3,
     "solution": false,
     "task": false
    }
   },
   "source": [
    "### Forward Sampling \n",
    "<div class=\"alert alert-warning\">\n",
    "Implement the <i>sample_forward</i> function, which samples from the full joint distribution of a Bayesian network $\\mathcal{B}$. (2 points)\n",
    "</div>\n",
    "\n",
    "The `sample_forward` function must return one object:\n",
    "- samples from $\\mathcal{B}$ of type `np.ndarray`, with shape `(sample_size, len(bayes_net))`\n",
    "\n",
    "\n",
    "**Hint**: Iterating over the *BayesNet* object returns the *Variable* objects in topological ordering. The probability distribution of variable $X$ given its parents $\\mathit{pa}(X)$, $P(X \\mid \\mathit{pa}(X))$, can be obtained by passing the (possibly incomplete) random event to the variable, i.e., `variable(samples[i])`."
   ]
  },
  {
   "cell_type": "code",
   "execution_count": 3,
   "metadata": {
    "deletable": false,
    "nbgrader": {
     "cell_type": "code",
     "checksum": "d53cdcf4356e8a96e4aa6166a98baeee",
     "grade": false,
     "grade_id": "cell-a21d29b8eb812ba1",
     "locked": false,
     "schema_version": 3,
     "solution": true,
     "task": false
    }
   },
   "outputs": [],
   "source": [
    "def sample_forward(bayes_net: BayesNet, sample_size: int) -> np.ndarray:\n",
    "    '''\n",
    "    Samples from the full joint distribution.\n",
    "    :param bayes_net: A Bayesian network of type BayesNet.\n",
    "    :param sample_size: The number of samples to draw from the Bayesian network.\n",
    "    :returns: A NumPy array of type np.int64 with shape (sample_size, len(bayes_net))\n",
    "              containing samples from the Bayesian network\n",
    "    '''\n",
    "    \n",
    "    # array holding the samples\n",
    "    samples = np.empty((sample_size, len(bayes_net)), np.int64)\n",
    "    \n",
    "    # YOUR CODE HERE\n",
    "    for i in range(sample_size):\n",
    "        for variable in bayes_net:\n",
    "            distribution = variable(samples[i])\n",
    "            samples[i][variable.id] = sample_categorical(distribution)\n",
    "    return samples"
   ]
  },
  {
   "cell_type": "code",
   "execution_count": 4,
   "metadata": {
    "deletable": false,
    "editable": false,
    "nbgrader": {
     "cell_type": "code",
     "checksum": "b323da9b830dd209f5ad67037fd87c83",
     "grade": true,
     "grade_id": "cell-a9f3cf6d211b01fa",
     "locked": true,
     "points": 2,
     "schema_version": 3,
     "solution": false,
     "task": false
    }
   },
   "outputs": [],
   "source": [
    "# sanity checks\n",
    "bayes_net = BayesNet([(np.array([0.5, 0.5]), [0])])\n",
    "\n",
    "samples = sample_forward(bayes_net, 3)\n",
    "\n",
    "assert type(samples) == np.ndarray, f'\\nWrong output type!\\nExpected: np.ndarray\\nGiven:\\t  {type(samples)}'\n",
    "assert samples.shape == (3, 1), f'\\nWrong output shape!\\nExpected: (3, 1)\\nGiven:\\t  {samples.shape}'\n",
    "assert samples.dtype == np.int64, f'\\nWrong numpy array data type!\\nExpected: np.int64\\nGiven:\\t  {samples.dtype}'\n"
   ]
  },
  {
   "cell_type": "markdown",
   "metadata": {
    "deletable": false,
    "editable": false,
    "nbgrader": {
     "cell_type": "markdown",
     "checksum": "078e0a5aacbc0aa57cd3d13392eae317",
     "grade": false,
     "grade_id": "cell-39ba0a156c9805da",
     "locked": true,
     "schema_version": 3,
     "solution": false,
     "task": false
    }
   },
   "source": [
    "### Rejection Sampling \n",
    "<div class=\"alert alert-warning\">\n",
    "    Implement the <i>rejection_sampling</i> function, which estimates the probability distribution over the query variable $X$ given evidence  $\\mathbf{E}=\\mathbf{e}$, i.e. $P(X \\mid \\mathbf{E}=\\mathbf{e})$. Use the <i>sample_forward</i> function implemented in the previous step to draw random events from $P(\\mathcal{X})$. (3 points)\n",
    "</div>\n",
    "\n",
    "The `rejection_sampling` function must return one object:\n",
    "-  The probability distribution over variable $X$ of type `np.ndarray` with shape `(bayes_net[query_variable].num_values,)`. If the sample from the FJD does not contain any random events with matching evidence, return a NumPy array with the same shape as $P(X \\mid \\mathbf{E}=\\mathbf{e})$ containing only values `np.nan`, i.e. `np.full(bayes_net[query_variable].num_values, np.nan)`.\n",
    "\n",
    "**Hint**: Use `np.bincount` to count the number of occurrences of each value."
   ]
  },
  {
   "cell_type": "code",
   "execution_count": 5,
   "metadata": {
    "deletable": false,
    "nbgrader": {
     "cell_type": "code",
     "checksum": "91f86a117743f29fb178050cd230b0b3",
     "grade": false,
     "grade_id": "cell-0f9107f6630622b7",
     "locked": false,
     "schema_version": 3,
     "solution": true,
     "task": false
    }
   },
   "outputs": [],
   "source": [
    "def rejection_sampling(bayes_net: BayesNet, query_variable: int, evidence: dict={}, sample_size: int=100) -> np.ndarray:\n",
    "    '''\n",
    "    Estimates the distribution of the query variale given the value of the evidence variables.\n",
    "    :param bayes_net: A Bayesian network of type BayesNet.\n",
    "    :param query_variable: Id of the query variable (int).\n",
    "    :param evidence: A dictionary of evidence variables (keys: int) and their correponding values (values: int).\n",
    "    :param sample_size: The number of samples to use for the estimation.\n",
    "    :returns: A NumPy array of type np.float64 representing the conditional distribution of the query variable given evidence, or a NumPy array of the same shape but with all values set to np.nan if no sample with matching evidence is found. \n",
    "    '''\n",
    "    \n",
    "    # forward sample...\n",
    "    samples = sample_forward(bayes_net, sample_size)\n",
    "    \n",
    "    # YOUR CODE HERE\n",
    "    for key, value in evidence.items():\n",
    "        samples = samples[samples[:,key] == value]\n",
    "\n",
    "    variable = bayes_net[query_variable]\n",
    "    if len(samples) == 0:\n",
    "        distribution = np.full(variable.num_values, np.nan)\n",
    "    else:\n",
    "        distribution = np.bincount(samples[:,query_variable], minlength=variable.num_values) / len(samples)\n",
    "    \n",
    "    return distribution\n"
   ]
  },
  {
   "cell_type": "code",
   "execution_count": 6,
   "metadata": {
    "deletable": false,
    "editable": false,
    "nbgrader": {
     "cell_type": "code",
     "checksum": "eaebadb65aad4cd9a13fd3878778bf57",
     "grade": true,
     "grade_id": "cell-212c51d460b7c21a",
     "locked": true,
     "points": 3,
     "schema_version": 3,
     "solution": false,
     "task": false
    }
   },
   "outputs": [],
   "source": [
    "# sanity checks\n",
    "bayes_net = BayesNet([(np.array([0.25, 0.25, 0.5]), [0])])\n",
    "\n",
    "np.random.seed(0)\n",
    "distribution = rejection_sampling(bayes_net, 0, {0:0}, 3)\n",
    "assert distribution.shape == (3,), f'\\nWrong output shape!\\nExpected: (3,)\\nGiven:\\t  {distribution.shape}'\n",
    "assert np.all(np.isnan(distribution))\n",
    "\n",
    "distribution = rejection_sampling(bayes_net, 0, {}, 1000)\n",
    "assert type(distribution) == np.ndarray, f'\\nWrong output type!\\nExpected: np.ndarray\\nGiven:\\t  {type(distribution)}'\n",
    "assert distribution.shape == (3,), f'\\nWrong output shape!\\nExpected: (3,)\\nGiven:\\t  {distribution.shape}'\n",
    "assert distribution.dtype == np.float64, f'\\nWrong numpy array data type!\\nExpected: np.float64\\nGiven:\\t  {distribution.dtype}'\n"
   ]
  },
  {
   "cell_type": "markdown",
   "metadata": {
    "deletable": false,
    "editable": false,
    "nbgrader": {
     "cell_type": "markdown",
     "checksum": "b92570a65a3df8ee431597ec7018bb06",
     "grade": false,
     "grade_id": "cell-9548b463f05a9ca6",
     "locked": true,
     "schema_version": 3,
     "solution": false,
     "task": false
    }
   },
   "source": [
    "## Example\n",
    "\n",
    "\n",
    "Now that we can approximate arbitrary probabilistic queries let us compare an approximation's accuracy to an exact solution.\n",
    "\n",
    "Consider the following Bayesian Network (all variables are binary):\n",
    "\n",
    "<img width='30%' src='bn.svg'>\n",
    "\n",
    "The conditional probability tables are given as:\n",
    "\n",
    "<table style=\"float: left;margin:5px;\"><tr><th>P(A)</th><th>$a_0$<br></th><th>$a_1$</th></tr><tr><td>-</td><td>0.2</td><td>0.8</td></tr></table>\n",
    "\n",
    "<table style=\"float: left;margin:5px;\"><tr><th>P(C)</th><th>$c_0$<br></th><th>$c_1$</th></tr><tr><td>-</td><td>0.9</td><td>0.1</td></tr></table>\n",
    "\n",
    "<table style=\"float: left;margin:5px;\"><tr><th>P(B | A)</th><th>$a_0$<br></th><th>$a_1$</th></tr><tr><td>$b_0$</td><td>0.9</td><td>0.2</td></tr><tr><td>$b_1$</td><td>0.1</td><td>0.8</td></tr></table>\n",
    "\n",
    "\n",
    "<table style=\"float: left;margin:5px;\"><tr><th rowspan=\"2\">P(D | B, C)</th><th colspan=\"2\">$b_0$<br></th><th colspan=\"2\">$b_1$</th></tr><tr><td>$c_0$</td><td>$c_1$</td><td>$c_0$</td><td>$c_1$</td></tr><tr><td>$d_0$<br></td><td>0.1</td><td>0.2</td><td>0.99</td><td>0.8</td></tr><tr><td>$d_1$</td><td>0.9</td><td>0.8</td><td>0.01</td><td>0.2</td></tr></table>\n",
    "\n",
    "<table style=\"float: left;margin:5px;\"><tr><th>P(E | C)</th><th>$c_0$</th><th>$c_1$</th></tr><tr><td>$e_0$</td><td>0.7</td><td>0.4</td></tr><tr><td>$e_1$</td><td>0.3</td><td>0.6</td></tr></table>"
   ]
  },
  {
   "cell_type": "markdown",
   "metadata": {
    "deletable": false,
    "editable": false,
    "nbgrader": {
     "cell_type": "markdown",
     "checksum": "56c50aca9f805a32cebb6050cda362de",
     "grade": false,
     "grade_id": "cell-64db2a31f0478058",
     "locked": true,
     "schema_version": 3,
     "solution": false,
     "task": false
    }
   },
   "source": [
    "First, let us store these tables as global NumPy arrays and create the BayesNet object:"
   ]
  },
  {
   "cell_type": "code",
   "execution_count": 7,
   "metadata": {
    "deletable": false,
    "editable": false,
    "nbgrader": {
     "cell_type": "code",
     "checksum": "9cfc7aaa152d2bcda10d4e3b54145722",
     "grade": false,
     "grade_id": "cell-ea9cddd63a7d7cbe",
     "locked": true,
     "schema_version": 3,
     "solution": false,
     "task": false
    }
   },
   "outputs": [],
   "source": [
    "_A_, _B_, _C_, _D_, _E_ = 0, 1, 2, 3, 4\n",
    "\n",
    "A = np.array([0.2, 0.8])\n",
    "B_A = np.array([[0.9, 0.2], [0.1, 0.8]])\n",
    "C = np.array([0.9, 0.1])\n",
    "D_BC = np.array([[[0.1, 0.2], [0.99, 0.8]], [[0.9, 0.8], [0.01, 0.2]]])\n",
    "E_C = np.array([[0.7, 0.4], [0.3, 0.6]])\n",
    "              \n",
    "bayes_net = BayesNet([\n",
    "    (A, [_A_]),\n",
    "    (B_A, [_B_, _A_]),\n",
    "    (C, [_C_]),\n",
    "    (D_BC, [_D_, _B_, _C_]),\n",
    "    (E_C, [_E_, _C_])\n",
    "])"
   ]
  },
  {
   "cell_type": "markdown",
   "metadata": {
    "deletable": false,
    "editable": false,
    "nbgrader": {
     "cell_type": "markdown",
     "checksum": "fb762b7e568220eb7cbd17ad77011b9c",
     "grade": false,
     "grade_id": "cell-bafa6289ac7cb845",
     "locked": true,
     "schema_version": 3,
     "solution": false,
     "task": false
    }
   },
   "source": [
    "### Exact Computation \n",
    "<div class=\"alert alert-warning\">\n",
    "Compute $P(A \\mid D, E)$ exactly (up to floating point precision). (1 point)\n",
    "</div>\n",
    "\n",
    "Feel free to do this in a very inefficient manner, e.g., by first computing the joint probability distribution and then normalizing by the evidence."
   ]
  },
  {
   "cell_type": "code",
   "execution_count": 8,
   "metadata": {
    "deletable": false,
    "nbgrader": {
     "cell_type": "code",
     "checksum": "0fcef0d653d169844b6b716a5b89880f",
     "grade": false,
     "grade_id": "cell-56090956bc549236",
     "locked": false,
     "schema_version": 3,
     "solution": true,
     "task": false
    }
   },
   "outputs": [],
   "source": [
    "A_DE = None\n",
    "\n",
    "# YOUR CODE HERE\n",
    "fjdt = 1\n",
    "\n",
    "for variable in bayes_net:\n",
    "    fjdt = fjdt * variable.pdt\n",
    "\n",
    "# Sum over the axis, that are not in our evidence\n",
    "A_DE = fjdt.sum(axis=(_B_,_C_))\n",
    "# Normalize by the sum of our A\n",
    "A_DE = A_DE / A_DE.sum(axis=_A_)\n",
    "# print(\"A_DE=\\n\", A_DE)\n",
    "# print(\"A_DE.shape=\", A_DE.shape)\n",
    "# print(\"A_DE.sum(axis=0)=\", A_DE.sum(axis=0))"
   ]
  },
  {
   "cell_type": "code",
   "execution_count": 9,
   "metadata": {
    "deletable": false,
    "editable": false,
    "nbgrader": {
     "cell_type": "code",
     "checksum": "1da7f1348ef6e565742af4b425e01013",
     "grade": true,
     "grade_id": "cell-b902e5cb2058921e",
     "locked": true,
     "points": 1,
     "schema_version": 3,
     "solution": false,
     "task": false
    }
   },
   "outputs": [],
   "source": [
    "# sanity checks\n",
    "assert A_DE is not None\n",
    "assert A_DE.shape == (2,2,2)\n",
    "assert np.all(np.isclose(A_DE.sum(axis=0), 1))\n"
   ]
  },
  {
   "cell_type": "markdown",
   "metadata": {
    "deletable": false,
    "editable": false,
    "nbgrader": {
     "cell_type": "markdown",
     "checksum": "f373f54668415794f0f0ca8a6b4aea29",
     "grade": false,
     "grade_id": "cell-7e8e699e6fa63332",
     "locked": true,
     "schema_version": 3,
     "solution": false,
     "task": false
    }
   },
   "source": [
    "### Comparison\n",
    "\n",
    "Run the following code cell to plot the average [Kullback-Leibler divergence](https://en.wikipedia.org/wiki/Kullback%E2%80%93Leibler_divergence) between the exact distribution $P(A \\mid D, E)$ and the approximations computed with rejection sampling. Different lines represent different value assignments to the evidence variables $D$ and $E$.\n",
    "\n",
    "**Hint**: The computation of the approximations might take a while..."
   ]
  },
  {
   "cell_type": "code",
   "execution_count": 10,
   "metadata": {
    "deletable": false,
    "editable": false,
    "nbgrader": {
     "cell_type": "code",
     "checksum": "97b96cf61241da4c3c8097cf4a420bda",
     "grade": false,
     "grade_id": "cell-e52d6309ba540279",
     "locked": true,
     "schema_version": 3,
     "solution": false,
     "task": false
    }
   },
   "outputs": [
    {
     "data": {
      "image/png": "[encoded data removed]",
      "text/plain": [
       "<Figure size 720x576 with 1 Axes>"
      ]
     },
     "metadata": {
      "needs_background": "light"
     },
     "output_type": "display_data"
    }
   ],
   "source": [
    "from utils import approx_error\n",
    "\n",
    "np.random.seed(0)\n",
    "errs = {}\n",
    "sample_counts = np.array([10, 20, 40, 80, 160, 320, 640, 1280])\n",
    "\n",
    "# compute approximation error\n",
    "for d, e in zip([0, 0, 1, 1], [0, 1, 0, 1]):\n",
    "    errs[(d, e)] = approx_error(\n",
    "        bayes_net,\n",
    "        rejection_sampling,  \n",
    "        A_DE[:, d, e],\n",
    "        _A_,\n",
    "        {_D_:d, _E_:e}, \n",
    "        sample_counts,\n",
    "        n_runs=100\n",
    "    )\n",
    "\n",
    "# plot\n",
    "plt.figure(figsize=(10, 8))\n",
    "plt.title('Kullback-Leiber Divergence')\n",
    "for d, e in zip([0, 0, 1, 1], [0, 1, 0, 1]):\n",
    "    plt.plot(sample_counts, errs[(d, e)], label=f'e:{e}, d:{d}', lw=2)\n",
    "    \n",
    "plt.legend()\n",
    "plt.xscale('log')\n",
    "plt.yscale('log')\n",
    "plt.xlim(sample_counts.min(), sample_counts.max())\n",
    "plt.xlabel('Number of samples')\n",
    "plt.show()"
   ]
  },
  {
   "cell_type": "markdown",
   "metadata": {
    "deletable": false,
    "editable": false,
    "nbgrader": {
     "cell_type": "markdown",
     "checksum": "e3eb95b7f1a98395d6db373a6cba30d1",
     "grade": false,
     "grade_id": "cell-79018e749c52e130",
     "locked": true,
     "schema_version": 3,
     "solution": false,
     "task": false
    }
   },
   "source": [
    "<div class=\"alert alert-warning\">\n",
    "Answer the following question in <b>one sentence</b>! (1 point)\n",
    "</div>\n",
    "\n",
    "Have a look at the average approximation errors when sampling $10^3$ samples with forward sampling. Why is the approximation error of $P(A \\mid e=1, d=1)$ higher then the approximation error of $P(A \\mid e=0, d=0)$?"
   ]
  },
  {
   "cell_type": "markdown",
   "metadata": {
    "deletable": false,
    "nbgrader": {
     "cell_type": "markdown",
     "checksum": "fb387c8bbdf706d723f976c28559a5ae",
     "grade": true,
     "grade_id": "cell-9eb92effb71c8f69",
     "locked": false,
     "points": 1,
     "schema_version": 3,
     "solution": true,
     "task": false
    }
   },
   "source": [
    "Because $P(e=1, d=1)$ is less likely than $P(e=0, d=0)$ and therefore it does not get sampled that often so the error is higher$"
   ]
  },
  {
   "cell_type": "markdown",
   "metadata": {
    "deletable": false,
    "editable": false,
    "nbgrader": {
     "cell_type": "markdown",
     "checksum": "109edff3b6804fe9f4faea4b0affc085",
     "grade": false,
     "grade_id": "cell-8504a946ed33dc68",
     "locked": true,
     "schema_version": 3,
     "solution": false,
     "task": false
    }
   },
   "source": [
    "<div class=\"alert alert-warning\">\n",
    "Store the answer to the following question into the provided result variable! (1 point)\n",
    "</div>\n",
    "\n",
    "Assume $d=1$ and $e=0$. On average, how many of the random events sampled from $P(\\mathcal{X})$ will be accepted by the rejection sampling algorithm (i.e., not rejected)? Give the fraction of samples accepted, e.g. 0.5, if every 2nd sample contains the correct evidence."
   ]
  },
  {
   "cell_type": "code",
   "execution_count": 11,
   "metadata": {
    "deletable": false,
    "nbgrader": {
     "cell_type": "code",
     "checksum": "a36163c0d7a6ea8ff5e72f93c00f1ff1",
     "grade": false,
     "grade_id": "cell-2d245d14311f7b64",
     "locked": false,
     "schema_version": 3,
     "solution": true,
     "task": false
    }
   },
   "outputs": [
    {
     "name": "stdout",
     "output_type": "stream",
     "text": [
      "[[0.456902 0.221358]\n",
      " [0.213098 0.108642]]\n",
      "0.213098\n"
     ]
    }
   ],
   "source": [
    "result = None\n",
    "\n",
    "# YOUR CODE HERE\n",
    "p_d_e = fjdt.sum(axis=(_A_,_B_,_C_))\n",
    "print(p_d_e)\n",
    "p_d1_e0 = p_d_e[1,0]\n",
    "print(p_d1_e0)\n",
    "result = p_d1_e0"
   ]
  },
  {
   "cell_type": "code",
   "execution_count": 12,
   "metadata": {
    "deletable": false,
    "editable": false,
    "nbgrader": {
     "cell_type": "code",
     "checksum": "4c45b58100568f827587fc81f3d38c83",
     "grade": true,
     "grade_id": "cell-a6cb6d992ca3d332",
     "locked": true,
     "points": 1,
     "schema_version": 3,
     "solution": false,
     "task": false
    }
   },
   "outputs": [],
   "source": [
    "assert result is not None\n"
   ]
  },
  {
   "cell_type": "code",
   "execution_count": null,
   "metadata": {},
   "outputs": [],
   "source": []
  }
 ],
 "metadata": {
  "kernelspec": {
   "display_name": "Python 3",
   "language": "python",
   "name": "python3"
  },
  "language_info": {
   "codemirror_mode": {
    "name": "ipython",
    "version": 3
   },
   "file_extension": ".py",
   "mimetype": "text/x-python",
   "name": "python",
   "nbconvert_exporter": "python",
   "pygments_lexer": "ipython3",
   "version": "3.8.5"
  }
 },
 "nbformat": 4,
 "nbformat_minor": 2
}
